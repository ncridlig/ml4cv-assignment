{
 "cells": [
  {
   "cell_type": "markdown",
   "metadata": {},
   "source": [
    "# Welcome to ML4CV Assignment\n",
    "Nicolas Cridlig  \n",
    "A16002193  \n",
    "nicolasivan.cridlig@studio.unibo.it  \n",
    "\n",
    "### Create the virtual enviroment and install required libraries\n",
    "In a terminal in the main folder, run:\n",
    "```\n",
    "python3 -m venv .venv\n",
    "source .venv/bin/activate\n",
    "python3 -m pip install -r requirements.txt\n",
    "```\n",
    "This only has to be done once. Now, load the jupyter kernel with this virtual enviroment. Note, if you have to modify any libraries in the enviroment and wish to share with others, update the requirements.txt by running\n",
    "\n",
    "`python3 -m pip freeze > requirements.txt`\n",
    "\n",
    "in the terminal.\n",
    "\n",
    "### Libraries"
   ]
  },
  {
   "cell_type": "code",
   "execution_count": null,
   "metadata": {},
   "outputs": [],
   "source": [
    "import numpy as np"
   ]
  }
 ],
 "metadata": {
  "language_info": {
   "name": "python"
  }
 },
 "nbformat": 4,
 "nbformat_minor": 2
}
